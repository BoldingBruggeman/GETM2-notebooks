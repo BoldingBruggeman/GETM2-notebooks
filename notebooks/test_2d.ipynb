{
 "cells": [
  {
   "cell_type": "code",
   "execution_count": null,
   "metadata": {},
   "outputs": [],
   "source": [
    "%load_ext dotenv\n",
    "%dotenv\n",
    "\n",
    "import numpy\n",
    "import pygetm\n",
    "import pygetm.domain\n",
    "\n",
    "# Note: \"%matplotlib widget\" below enables interactive plots but requires https://github.com/matplotlib/ipympl\n",
    "# Alternatively you could use \"%matplotlib notebook\" (deprecated).\n",
    "%matplotlib widget\n",
    "import matplotlib.pyplot"
   ]
  },
  {
   "cell_type": "code",
   "execution_count": null,
   "metadata": {},
   "outputs": [],
   "source": [
    "# Set up rectangular domain with outer points masked\n",
    "domain = pygetm.domain.Domain.create_cartesian(500.*numpy.arange(100), 500.*numpy.arange(30), 1, lat=0, H=50)\n",
    "sim = pygetm.Simulation(domain, runtype=1, advection_scheme=1)\n",
    "\n",
    "# Idealized surface forcing\n",
    "tausx, tausx_ = domain.T.array(fill=0.)\n",
    "tausx[...] = 0.01\n",
    "tausy_ = numpy.zeros_like(tausx_)\n",
    "sp, sp_ = domain.T.array(fill=0.)\n",
    "\n",
    "# Time\n",
    "timestep = 10.\n",
    "ntime = int(3600. // timestep)\n",
    "\n",
    "# Set up velocity plot\n",
    "nsample = 4\n",
    "fig, ax = matplotlib.pyplot.subplots()\n",
    "pc = ax.pcolormesh(domain.T.xi, domain.T.yi, domain.T.z, vmin=-0.001, vmax=0.001)\n",
    "cb = fig.colorbar(pc)\n",
    "cb.set_label('elevation (m)')\n",
    "Q = ax.quiver(domain.T.x[::nsample, ::nsample], domain.T.y[::nsample, ::nsample], sim.momentum.U[::nsample, ::nsample], sim.momentum.V[::nsample, ::nsample], scale=.3)\n",
    "title = ax.set_title('time: 0 s')"
   ]
  },
  {
   "cell_type": "code",
   "execution_count": null,
   "metadata": {
    "tags": []
   },
   "outputs": [],
   "source": [
    "plotting_interval = 5\n",
    "times = timestep * numpy.arange(ntime)\n",
    "Us = numpy.empty_like(times)\n",
    "for istep, time in enumerate(times):\n",
    "    Us[istep] = sim.momentum.U.mean()\n",
    "    sim.pressure.surface(domain.T.z_, sp_)\n",
    "    sim.momentum.uv_momentum_2d(timestep, tausx_, tausy_, sim.pressure.dpdx_, sim.pressure.dpdy_)\n",
    "    sim.sealevel.update(timestep, sim.momentum.U_, sim.momentum.V_)\n",
    "    sim.update_depth()\n",
    "\n",
    "    # Update velocity plot\n",
    "    if istep % plotting_interval == 0:\n",
    "        Q.set_UVC(sim.momentum.U[::nsample, ::nsample], sim.momentum.V[::nsample, ::nsample])\n",
    "        title.set_text('time: %s s' % time)\n",
    "        pc.set_array(domain.T.z.ravel())\n",
    "        fig.canvas.draw()"
   ]
  },
  {
   "cell_type": "code",
   "execution_count": null,
   "metadata": {},
   "outputs": [],
   "source": [
    "fig, ax = matplotlib.pyplot.subplots()\n",
    "ax.plot(times, Us)\n",
    "ax.set_title('mean U')\n",
    "ax.grid()"
   ]
  },
  {
   "cell_type": "code",
   "execution_count": null,
   "metadata": {},
   "outputs": [],
   "source": []
  }
 ],
 "metadata": {
  "kernelspec": {
   "display_name": "Python 3",
   "language": "python",
   "name": "python3"
  },
  "language_info": {
   "codemirror_mode": {
    "name": "ipython",
    "version": 3
   },
   "file_extension": ".py",
   "mimetype": "text/x-python",
   "name": "python",
   "nbconvert_exporter": "python",
   "pygments_lexer": "ipython3",
   "version": "3.8.5"
  }
 },
 "nbformat": 4,
 "nbformat_minor": 4
}
