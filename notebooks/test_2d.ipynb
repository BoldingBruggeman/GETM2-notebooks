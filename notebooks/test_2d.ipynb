{
 "cells": [
  {
   "cell_type": "code",
   "execution_count": null,
   "metadata": {},
   "outputs": [],
   "source": [
    "import numpy\n",
    "import pygetm\n",
    "\n",
    "# Note: \"%matplotlib widget\" below enables interactive plots but requires https://github.com/matplotlib/ipympl\n",
    "# Alternatively you could use \"%matplotlib notebook\" (deprecated).\n",
    "%matplotlib widget\n",
    "import matplotlib.pyplot"
   ]
  },
  {
   "cell_type": "code",
   "execution_count": null,
   "metadata": {},
   "outputs": [],
   "source": [
    "# Set up rectangular domain with outer points masked\n",
    "domain = pygetm.domain.Domain.create_cartesian(500.*numpy.arange(100), 500.*numpy.arange(30), 1, lat=0, H=50)\n",
    "sim = pygetm.Simulation(domain, runtype=1, advection_scheme=1)\n",
    "\n",
    "# Idealized surface forcing\n",
    "tausx, tausx_ = domain.U.array(fill=0.01)\n",
    "tausy, tausy_ = domain.V.array(fill=0.)\n",
    "sp, sp_ = domain.T.array(fill=0.)\n",
    "\n",
    "# Time\n",
    "timestep = 10.\n",
    "ntime = int(3600. // timestep)\n",
    "\n",
    "# Set up velocity plot\n",
    "nsample = 4\n",
    "fig, ax = matplotlib.pyplot.subplots()\n",
    "pc = ax.pcolormesh(domain.T.xi, domain.T.yi, domain.T.z, vmin=-0.001, vmax=0.001)\n",
    "cb = fig.colorbar(pc)\n",
    "cb.set_label('elevation (m)')\n",
    "Q = ax.quiver(domain.T.x[::nsample, ::nsample], domain.T.y[::nsample, ::nsample], sim.U[::nsample, ::nsample], sim.V[::nsample, ::nsample], scale=.3)\n",
    "title = ax.set_title('time: 0 s')"
   ]
  },
  {
   "cell_type": "code",
   "execution_count": null,
   "metadata": {
    "tags": []
   },
   "outputs": [],
   "source": [
    "plotting_interval = 5\n",
    "times = timestep * numpy.arange(ntime)\n",
    "Us = numpy.empty_like(times)\n",
    "for istep, time in enumerate(times):\n",
    "    Us[istep] = sim.U.mean()\n",
    "    sim.update_surface_pressure_gradient(domain.T.z_, sp_)\n",
    "    sim.uv_momentum_2d(timestep, tausx_, tausy_, sim.dpdx_, sim.dpdy_)\n",
    "    sim.update_sealevel(timestep, sim.U_, sim.V_)\n",
    "    sim.update_depth()\n",
    "\n",
    "    # Update velocity plot\n",
    "    if istep % plotting_interval == 0:\n",
    "        Q.set_UVC(sim.U[::nsample, ::nsample], sim.V[::nsample, ::nsample])\n",
    "        title.set_text('time: %s s' % time)\n",
    "        pc.set_array(domain.T.z.ravel())\n",
    "        fig.canvas.draw()"
   ]
  },
  {
   "cell_type": "code",
   "execution_count": null,
   "metadata": {},
   "outputs": [],
   "source": [
    "fig, ax = matplotlib.pyplot.subplots()\n",
    "ax.plot(times, Us)\n",
    "ax.set_title('mean U')\n",
    "ax.grid()"
   ]
  },
  {
   "cell_type": "code",
   "execution_count": null,
   "metadata": {},
   "outputs": [],
   "source": []
  }
 ],
 "metadata": {
  "kernelspec": {
   "name": "python388jvsc74a57bd097ae724bfa85b9b34df7982b8bb8c7216f435b92902d749e4263f71162bea840",
   "display_name": "Python 3.8.8 64-bit ('base': conda)"
  },
  "language_info": {
   "codemirror_mode": {
    "name": "ipython",
    "version": 3
   },
   "file_extension": ".py",
   "mimetype": "text/x-python",
   "name": "python",
   "nbconvert_exporter": "python",
   "pygments_lexer": "ipython3",
   "version": "3.8.8"
  }
 },
 "nbformat": 4,
 "nbformat_minor": 4
}