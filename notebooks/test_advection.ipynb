{
 "cells": [
  {
   "cell_type": "code",
   "execution_count": null,
   "metadata": {},
   "outputs": [],
   "source": [
    "import numpy\n",
    "import pygetm\n",
    "\n",
    "%matplotlib widget\n",
    "import matplotlib.pyplot"
   ]
  },
  {
   "cell_type": "code",
   "execution_count": null,
   "metadata": {},
   "outputs": [],
   "source": [
    "halo = 2\n",
    "Lx, Ly = 100., 100.\n",
    "\n",
    "domain = pygetm.domain.Domain.create_cartesian(numpy.linspace(-Lx/2, Lx/2, 100), numpy.linspace(-Ly/2, Ly/2, 101), 1, H=1., lat=0., mask=1)\n",
    "domain.initialize(runtype=1)"
   ]
  },
  {
   "cell_type": "code",
   "execution_count": null,
   "metadata": {},
   "outputs": [],
   "source": [
    "period = 600\n",
    "omega = 2 * numpy.pi / period\n",
    "cfl = 1.\n",
    "umax = omega * Lx / 2\n",
    "dt_cfl = cfl * min(Lx / (domain.T.H.shape[1] + 1), Ly / (domain.T.H.shape[0] + 1)) / umax\n",
    "no_of_revolutions = 5\n",
    "Nmax = no_of_revolutions * round(2 * numpy.pi / omega / dt_cfl)\n",
    "tmax = no_of_revolutions * 2 * numpy.pi / omega\n",
    "timestep = tmax / Nmax"
   ]
  },
  {
   "cell_type": "code",
   "execution_count": null,
   "metadata": {},
   "outputs": [],
   "source": [
    "u = domain.U.array(fill=0.)\n",
    "v = domain.V.array(fill=0.)\n",
    "var = domain.T.array(fill=1.)\n",
    "u[:, :] = -omega * domain.U.y\n",
    "v[:, :] = omega * domain.V.x\n",
    "u[(2 * domain.U.x / Lx)**2 + (2 * domain.U.y / Ly)**2 > 1] = 0.\n",
    "v[(2 * domain.V.x / Lx)**2 + (2 * domain.V.y / Ly)**2 > 1] = 0.\n",
    "var[int(0.2 * domain.shape[1]):int(0.4 * domain.shape[1]), int(0.2 * domain.shape[2]):int(0.4 * domain.shape[2])] = 5."
   ]
  },
  {
   "cell_type": "code",
   "execution_count": null,
   "metadata": {},
   "outputs": [],
   "source": [
    "fig, ax = matplotlib.pyplot.subplots()\n",
    "u_destag, v_destag = u.interp(domain.T), v.interp(domain.T)\n",
    "pc = ax.quiver(u_destag[::5,::5], v_destag[::5,::5])"
   ]
  },
  {
   "cell_type": "code",
   "execution_count": null,
   "metadata": {},
   "outputs": [],
   "source": [
    "nsample = 4\n",
    "fig, ax = matplotlib.pyplot.subplots()\n",
    "pc = ax.pcolormesh(var)\n",
    "cb = fig.colorbar(pc)\n",
    "title = ax.set_title('time step: 0 of %i' % Nmax)"
   ]
  },
  {
   "cell_type": "code",
   "execution_count": null,
   "metadata": {
    "tags": []
   },
   "outputs": [],
   "source": [
    "totals = [var[...].sum()]\n",
    "adv = pygetm.Advection(domain.T, scheme=1)\n",
    "for i in range(1, Nmax):\n",
    "    adv.calculate(u, v, timestep, var)\n",
    "    if i % nsample == 0:\n",
    "        pc.set_array(var[...].ravel())\n",
    "        title.set_text('time step: %i of %i' % (i, Nmax))\n",
    "        fig.canvas.draw()\n",
    "    totals.append(var[...].sum())"
   ]
  },
  {
   "cell_type": "code",
   "execution_count": null,
   "metadata": {},
   "outputs": [],
   "source": [
    "fig, ax = matplotlib.pyplot.subplots()\n",
    "ax.plot(totals / totals[0] - 1.)\n",
    "ax.grid()\n",
    "ax.set_xlabel('time step')\n",
    "ax.set_ylabel('change in total tracer')\n",
    "fig.show()"
   ]
  },
  {
   "cell_type": "code",
   "execution_count": null,
   "metadata": {},
   "outputs": [],
   "source": []
  }
 ],
 "metadata": {
  "kernelspec": {
   "name": "python388jvsc74a57bd097ae724bfa85b9b34df7982b8bb8c7216f435b92902d749e4263f71162bea840",
   "display_name": "Python 3.8.8 64-bit ('base': conda)"
  },
  "language_info": {
   "codemirror_mode": {
    "name": "ipython",
    "version": 3
   },
   "file_extension": ".py",
   "mimetype": "text/x-python",
   "name": "python",
   "nbconvert_exporter": "python",
   "pygments_lexer": "ipython3",
   "version": "3.8.8"
  }
 },
 "nbformat": 4,
 "nbformat_minor": 4
}