{
 "cells": [
  {
   "cell_type": "code",
   "execution_count": 1,
   "metadata": {},
   "outputs": [],
   "source": [
    "import numpy\n",
    "import pygetm\n",
    "\n",
    "%matplotlib widget\n",
    "import matplotlib.pyplot\n",
    "import matplotlib.collections"
   ]
  },
  {
   "cell_type": "code",
   "execution_count": 2,
   "metadata": {},
   "outputs": [
    {
     "data": {
      "application/vnd.jupyter.widget-view+json": {
       "model_id": "d9fc7d11d7c34da1bf84215cca79c22a",
       "version_major": 2,
       "version_minor": 0
      },
      "text/plain": [
       "Canvas(toolbar=Toolbar(toolitems=[('Home', 'Reset original view', 'home', 'home'), ('Back', 'Back to previous …"
      ]
     },
     "metadata": {},
     "output_type": "display_data"
    }
   ],
   "source": [
    "# Cartesian grid defiend in terms of coordinates of centres (T points)\n",
    "# Alternatively it could be defiend in terms of coordinates of corners.\n",
    "# To do so, add interfaces=True in the call to create_cartesian\n",
    "x = numpy.linspace(0., 1000, 100)\n",
    "y = numpy.linspace(0., 500, 50)\n",
    "dom = pygetm.domain.Domain.create_cartesian(x=x, y=y, nz=1, f=0., H=1)\n",
    "dom.plot()"
   ]
  },
  {
   "cell_type": "code",
   "execution_count": 3,
   "metadata": {},
   "outputs": [
    {
     "data": {
      "application/vnd.jupyter.widget-view+json": {
       "model_id": "de554c26238e4ce4bbb84bcb888450d5",
       "version_major": 2,
       "version_minor": 0
      },
      "text/plain": [
       "Canvas(toolbar=Toolbar(toolitems=[('Home', 'Reset original view', 'home', 'home'), ('Back', 'Back to previous …"
      ]
     },
     "metadata": {},
     "output_type": "display_data"
    }
   ],
   "source": [
    "# Mock curvilinear grid, which x linearly increasing, and y a hyberbolic function of x (not great for orthogonality!)\n",
    "# It is defined in terms of number of tracer points (nx, ny) andthe coordinates at the corner (X) points (x, y)\n",
    "nx, ny = 100, 50\n",
    "xx = numpy.linspace(0., 1000, nx + 1)[numpy.newaxis, :]\n",
    "y_extent = 500 * (.8 - xx / (xx + 500.))\n",
    "yx = numpy.linspace(-1., 1, ny + 1)[:, numpy.newaxis] * y_extent\n",
    "dom = pygetm.domain.Domain(nx, ny, 1, x=xx, y=yx, f=0., H=1)\n",
    "dom.plot()"
   ]
  },
  {
   "cell_type": "code",
   "execution_count": null,
   "metadata": {},
   "outputs": [],
   "source": []
  }
 ],
 "metadata": {
  "kernelspec": {
   "display_name": "Python 3",
   "language": "python",
   "name": "python3"
  },
  "language_info": {
   "codemirror_mode": {
    "name": "ipython",
    "version": 3
   },
   "file_extension": ".py",
   "mimetype": "text/x-python",
   "name": "python",
   "nbconvert_exporter": "python",
   "pygments_lexer": "ipython3",
   "version": "3.8.5"
  }
 },
 "nbformat": 4,
 "nbformat_minor": 2
}
