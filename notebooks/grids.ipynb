{
 "metadata": {
  "language_info": {
   "codemirror_mode": {
    "name": "ipython",
    "version": 3
   },
   "file_extension": ".py",
   "mimetype": "text/x-python",
   "name": "python",
   "nbconvert_exporter": "python",
   "pygments_lexer": "ipython3",
   "version": "3.8.8"
  },
  "orig_nbformat": 2,
  "kernelspec": {
   "name": "python3",
   "display_name": "Python 3.8.8 64-bit ('base': conda)"
  },
  "interpreter": {
   "hash": "97ae724bfa85b9b34df7982b8bb8c7216f435b92902d749e4263f71162bea840"
  }
 },
 "nbformat": 4,
 "nbformat_minor": 2,
 "cells": [
  {
   "cell_type": "code",
   "execution_count": null,
   "metadata": {},
   "outputs": [],
   "source": [
    "import numpy\n",
    "import pygetm\n",
    "\n",
    "%matplotlib widget"
   ]
  },
  {
   "cell_type": "code",
   "execution_count": null,
   "metadata": {},
   "outputs": [],
   "source": [
    "# Cartesian grid defined in terms of coordinates of centres (T points)\n",
    "# Alternatively it could be defined in terms of coordinates of corners (X points)\n",
    "# To do so, add interfaces=True in the call to create_cartesian\n",
    "x = numpy.linspace(0., 1000, 100)\n",
    "y = numpy.linspace(0., 500, 50)\n",
    "dom = pygetm.domain.Domain.create_cartesian(x=x, y=y, nz=1, f=0., H=1)\n",
    "dom.plot()"
   ]
  },
  {
   "cell_type": "code",
   "execution_count": null,
   "metadata": {},
   "outputs": [],
   "source": [
    "# Mock curvilinear grid, with x linearly increasing, and y a hyberbolic function of x (not great for orthogonality!)\n",
    "# It is defined in terms of number of tracer points (nx, ny) and the coordinates at the corner (X) points (xx, yx)\n",
    "nx, ny = 100, 50\n",
    "xx = numpy.linspace(0., 1000, nx + 1)[numpy.newaxis, :]\n",
    "y_extent = 500 * (.8 - xx / (xx + 500.))\n",
    "yx = numpy.linspace(-1., 1, ny + 1)[:, numpy.newaxis] * y_extent\n",
    "dom = pygetm.domain.Domain(nx, ny, 1, x=xx, y=yx, f=0., H=1)\n",
    "dom.plot()"
   ]
  },
  {
   "cell_type": "code",
   "execution_count": null,
   "metadata": {},
   "outputs": [],
   "source": []
  }
 ]
}