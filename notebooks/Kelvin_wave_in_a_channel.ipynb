{
 "cells": [
  {
   "cell_type": "markdown",
   "metadata": {},
   "source": [
    "# Kelvin wave in a 2D periodic channel\n",
    "\n",
    "by Marvin Lorenz and Markus Reinert, February to May 2021"
   ]
  },
  {
   "cell_type": "markdown",
   "metadata": {},
   "source": [
    "The following “magic” command enables interactive plots.\n",
    "This requires https://github.com/matplotlib/ipympl.\n",
    "Alternatively you could use `%matplotlib notebook` (deprecated)."
   ]
  },
  {
   "cell_type": "code",
   "execution_count": null,
   "metadata": {},
   "outputs": [],
   "source": [
    "%matplotlib widget"
   ]
  },
  {
   "cell_type": "code",
   "execution_count": null,
   "metadata": {},
   "outputs": [],
   "source": [
    "import datetime\n",
    "\n",
    "import numpy as np\n",
    "import matplotlib.pyplot as plt\n",
    "\n",
    "import pygetm\n",
    "import pygetm.domain"
   ]
  },
  {
   "cell_type": "code",
   "execution_count": null,
   "metadata": {
    "scrolled": false
   },
   "outputs": [],
   "source": [
    "L = 500e3\n",
    "H = 10.0\n",
    "f = 0.0\n",
    "\n",
    "# Set up a 2D-domain that is periodic in x-direction\n",
    "domain = pygetm.domain.Domain.create_cartesian(\n",
    "    L * np.arange(100) / 100,\n",
    "    L * np.arange(100) / 100,\n",
    "    1,\n",
    "    periodic_x=True,\n",
    "    H=H,\n",
    "    f=f,\n",
    ")\n",
    "sim = pygetm.Simulation(domain, runtype=1, advection_scheme=1)\n",
    "\n",
    "# No surface forcing\n",
    "tausx, tausx_ = domain.T.array(fill=0.0)\n",
    "tausy, tausy_ = domain.T.array(fill=0.0)\n",
    "sp, sp_ = domain.T.array(fill=0.0)\n",
    "\n",
    "# Define, extract, and/or calculate physical constants\n",
    "g = 9.81\n",
    "c = np.sqrt(g * H)\n",
    "print(\"Phase speed of long gravity waves: {:.2f} m/s\".format(c))\n",
    "print(\"Coriolis parameter: f = {:.5f} / s\".format(f))\n",
    "a = c / f\n",
    "print(\"External Rossby radius: {:.2f} km\".format(a / 1e3))\n",
    "\n",
    "# Set initial conditions for an almost linear Kelvin wave\n",
    "eta_0 = 0.001\n",
    "k = 2 * 2 * np.pi / L\n",
    "l = 2 * np.pi / k\n",
    "print(\"Wave length: {:.2f} km\".format(l / 1e3))\n",
    "omega = c * k\n",
    "print(\"Period: {:.0f} minutes = {:.1f} hours\".format(2*np.pi/omega / 60, 2*np.pi/omega / 3600))\n",
    "domain.T.z[...] = (\n",
    "    eta_0\n",
    "    * np.exp(-domain.T.yi[1:, 1:] / a)\n",
    "    * np.sin(k * domain.T.xi[1:, 1:])\n",
    "    * domain.T.mask\n",
    ")\n",
    "sim.momentum.U[...] = (\n",
    "   eta_0 * c\n",
    "   * np.exp(-domain.T.yi[1:, 1:] / a)\n",
    "   * np.sin(k * domain.T.x)\n",
    "   * domain.U.mask\n",
    ")\n",
    "# Keep only one wavelength\n",
    "sim.momentum.U[domain.T.x > l] = 0\n",
    "domain.T.z[domain.T.xi[1:, 1:] > l] = 0\n",
    "\n",
    "# Set the time-stepping\n",
    "start = datetime.datetime(2020, 1, 1, 0, 0)\n",
    "stop = datetime.datetime(2020, 1, 2, 4, 0)\n",
    "timestep = 60.0\n",
    "time = start\n",
    "\n",
    "# Set up a figure showing surface elevation and velocity vectors\n",
    "nsample = 4\n",
    "fig, ax = plt.subplots()\n",
    "title = ax.set_title(time.strftime('Day: %j, Time: %H:%M:%S'))\n",
    "ax.set_xlabel(\"x (m)\")\n",
    "ax.set_ylabel(\"y (m)\")\n",
    "pc = ax.pcolormesh(domain.T.xi, domain.T.yi, domain.T.z, vmin=-eta_0, vmax=eta_0, cmap=\"seismic\")\n",
    "cb = fig.colorbar(pc, label='elevation (m)')\n",
    "Q = ax.quiver(\n",
    "    domain.T.x[::nsample, ::nsample],\n",
    "    domain.T.y[::nsample, ::nsample],\n",
    "    sim.momentum.U[::nsample, ::nsample],\n",
    "    sim.momentum.V[::nsample, ::nsample],\n",
    "    scale=0.1,\n",
    ")\n",
    "l = ax.axvline(0, color=\"black\")\n",
    "ax.set_xlim(None, L)\n",
    "print(\"The black line should always be at the same phase of the Kelvin wave\")"
   ]
  },
  {
   "cell_type": "code",
   "execution_count": null,
   "metadata": {
    "scrolled": true,
    "tags": []
   },
   "outputs": [],
   "source": [
    "dist_U = domain.distribute(sim.momentum.U_)\n",
    "dist_V = domain.distribute(sim.momentum.V_)\n",
    "dist_U.update_halos()\n",
    "dist_V.update_halos()\n",
    "\n",
    "plotting_interval = 10\n",
    "istep = 0\n",
    "while time <= stop:\n",
    "    sim.pressure.surface(domain.T.z_, sp_)\n",
    "    sim.momentum.uv_momentum_2d(timestep, tausx_, tausy_, sim.pressure.dpdx_, sim.pressure.dpdy_)\n",
    "    dist_U.update_halos()\n",
    "    dist_V.update_halos()\n",
    "    sim.sealevel.update(timestep, sim.momentum.U_, sim.momentum.V_)\n",
    "    sim.update_depth()\n",
    "\n",
    "    if istep % plotting_interval == 0:\n",
    "        print(istep, time)\n",
    "        Q.set_UVC(sim.momentum.U[::nsample, ::nsample], sim.momentum.V[::nsample, ::nsample])\n",
    "        title.set_text(time.strftime('Day: %j, Time: %H:%M:%S'))\n",
    "        pc.set_array(domain.T.z.ravel())\n",
    "        l.remove()\n",
    "        l = ax.axvline((omega * (time - start).total_seconds() / k) % L, color=\"black\")\n",
    "        fig.canvas.draw()\n",
    "\n",
    "    istep += 1\n",
    "    time += datetime.timedelta(seconds=timestep)"
   ]
  },
  {
   "cell_type": "code",
   "execution_count": null,
   "metadata": {},
   "outputs": [],
   "source": []
  }
 ],
 "metadata": {
  "kernelspec": {
   "name": "python388jvsc74a57bd097ae724bfa85b9b34df7982b8bb8c7216f435b92902d749e4263f71162bea840",
   "display_name": "Python 3.8.8 64-bit ('base': conda)"
  },
  "language_info": {
   "codemirror_mode": {
    "name": "ipython",
    "version": 3
   },
   "file_extension": ".py",
   "mimetype": "text/x-python",
   "name": "python",
   "nbconvert_exporter": "python",
   "pygments_lexer": "ipython3",
   "version": "3.8.8"
  },
  "latex_envs": {
   "LaTeX_envs_menu_present": true,
   "autoclose": false,
   "autocomplete": true,
   "bibliofile": "biblio.bib",
   "cite_by": "apalike",
   "current_citInitial": 1,
   "eqLabelWithNumbers": true,
   "eqNumInitial": 1,
   "hotkeys": {
    "equation": "Ctrl-E",
    "itemize": "Ctrl-I"
   },
   "labels_anchors": false,
   "latex_user_defs": false,
   "report_style_numbering": false,
   "user_envs_cfg": false
  },
  "toc": {
   "base_numbering": 1,
   "nav_menu": {},
   "number_sections": true,
   "sideBar": true,
   "skip_h1_title": true,
   "title_cell": "Table of Contents",
   "title_sidebar": "Contents",
   "toc_cell": false,
   "toc_position": {},
   "toc_section_display": true,
   "toc_window_display": false
  }
 },
 "nbformat": 4,
 "nbformat_minor": 4
}