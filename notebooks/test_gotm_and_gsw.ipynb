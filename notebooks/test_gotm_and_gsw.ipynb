{
 "cells": [
  {
   "cell_type": "code",
   "execution_count": null,
   "source": [
    "import numpy\r\n",
    "\r\n",
    "# Note: \"%matplotlib widget\" below enables interactive plots but requires https://github.com/matplotlib/ipympl\r\n",
    "# Alternatively you could use \"%matplotlib notebook\" (deprecated).\r\n",
    "%matplotlib widget\r\n",
    "import matplotlib.pyplot\r\n",
    "\r\n",
    "import pygsw\r\n",
    "import pygetm._pygotm"
   ],
   "outputs": [],
   "metadata": {}
  },
  {
   "cell_type": "code",
   "execution_count": null,
   "source": [
    "# Configure a water column with equal layer thicknesses\r\n",
    "D = 5000\r\n",
    "nlev = 100\r\n",
    "\r\n",
    "h_ = numpy.full((nlev + 1,), D / nlev)   # layer heights plus a dummy value as very first element (needed for GOTM)\r\n",
    "h = h_[1:]                               # actual layer heights (without the dummy value)\r\n",
    "z_if = numpy.linspace(-D, 0., nlev + 1)  # depth of layer interfaces\r\n",
    "z = 0.5 * (z_if[:-1] + z_if[1:])         # depth of layer centers"
   ],
   "outputs": [],
   "metadata": {}
  },
  {
   "cell_type": "code",
   "execution_count": null,
   "source": [
    "# Try GOTM mixing logic on a random tracer field with constant diffusivity\r\n",
    "# This sets up a figure with the tracer state, which can be advanced [time-integrated] by the following cell.\r\n",
    "\r\n",
    "mix = pygetm._pygotm.Mixing(nlev)\r\n",
    "mix.nuh[:] = 1e-1\r\n",
    "y = numpy.random.random_sample(mix.nuh.size)\r\n",
    "\r\n",
    "iday = 0\r\n",
    "fig, ax = matplotlib.pyplot.subplots()\r\n",
    "line, = ax.plot(y[1:], z, 'o')\r\n",
    "title = ax.set_title('day 0')\r\n",
    "ax.set_xlabel('tracer')\r\n",
    "ax.set_ylabel('depth (m)')\r\n",
    "ax.grid()"
   ],
   "outputs": [],
   "metadata": {}
  },
  {
   "cell_type": "code",
   "execution_count": null,
   "source": [
    "# Time-integrate the vertical diffusion equation for 100 days and update the above figure while doing so.\r\n",
    "for _ in range(100):\r\n",
    "    iday += 1\r\n",
    "    for _ in range(24):\r\n",
    "        mix.diffuse(z.size, 3600., h_, y)\r\n",
    "    line.set_xdata(y[1:])\r\n",
    "    title.set_text('day %i' % iday)\r\n",
    "    fig.canvas.draw()"
   ],
   "outputs": [],
   "metadata": {}
  },
  {
   "cell_type": "code",
   "execution_count": null,
   "source": [
    "# Now set up simple temperature and salinity profile (stable temperature but randomly perturbed salinity, so there is something to diffuse):\r\n",
    "# Start from in-situ temperature and practical salinity, then use GWS to compute other temperature and salinity metrics and plot the result.\r\n",
    "\r\n",
    "# In-situ temperature and practical salinity\r\n",
    "t = numpy.full_like(z, 5.)\r\n",
    "t[80:] = 10.\r\n",
    "sp = numpy.full_like(z, 35.) + numpy.random.random_sample(t.shape)\r\n",
    "\r\n",
    "# Location needed by GWS\r\n",
    "lon = numpy.full_like(z, 0.)\r\n",
    "lat = numpy.full_like(z, 50.)\r\n",
    "p = -z\r\n",
    "\r\n",
    "# Absolute salinity - note we add a dummy first value so we can later use this array for pygotm mixing\r\n",
    "SA_ = numpy.empty_like(h_)\r\n",
    "SA = SA_[1:]\r\n",
    "pygsw.sa_from_sp(lon, lat, p, sp, SA)\r\n",
    "\r\n",
    "# Potential temperature\r\n",
    "pt = numpy.empty_like(t)\r\n",
    "pygsw.pt0_from_t(SA, t, p, pt)\r\n",
    "\r\n",
    "# Conservative temperature - note we add a dummy first value so we can later use this array for pygotm mixing\r\n",
    "ct_ = numpy.empty_like(SA_)\r\n",
    "ct = ct_[1:]\r\n",
    "pygsw.ct_from_pt(SA, pt, ct)\r\n",
    "\r\n",
    "# Buoyancy frequency\r\n",
    "NN = numpy.zeros((h.shape[0] + 1,), dtype=h.dtype)\r\n",
    "pygsw.nsquared(h[:, None, None], SA[:, None, None], ct[:, None, None], p[:, None, None], lat[0, None, None], NN[1:-1, None, None])\r\n",
    "\r\n",
    "# Plot\r\n",
    "fig, (ax1, ax2, ax3) = matplotlib.pyplot.subplots(ncols=3, figsize=(12, 5), sharey=True)\r\n",
    "ax1.plot(t, z, '-', label='in-situ temperature')\r\n",
    "ax1.plot(pt, z, '-', label='potential temperature')\r\n",
    "line_ct, = ax1.plot(ct, z, '-', label='conservative temperature')\r\n",
    "ax1.set_xlabel('temperature (degrees C)')\r\n",
    "ax1.set_ylabel('depth (m)')\r\n",
    "ax1.legend()\r\n",
    "ax1.grid()\r\n",
    "\r\n",
    "ax2.plot(sp, z, '-', label='practical salinity')\r\n",
    "line_SA, = ax2.plot(SA, z, '-', label='absolute salinity')\r\n",
    "ax2.set_xlabel('salinity')\r\n",
    "ax2.legend()\r\n",
    "ax2.grid()\r\n",
    "\r\n",
    "line_NN, = ax3.plot(NN, z_if, '-')\r\n",
    "ax3.set_xlabel('buoyancy frequency squared (s-2)')\r\n",
    "ax3.grid()"
   ],
   "outputs": [],
   "metadata": {}
  },
  {
   "cell_type": "code",
   "execution_count": null,
   "source": [
    "# Set up a figure that shows the model state (conservative temperature, absolute salinity, buoyancy frequency, turbulent diffusivity)\r\n",
    "# This figure can then be updated while the simulation progresses [next cell]\r\n",
    "\r\n",
    "iday = 0\r\n",
    "mix = pygetm._pygotm.Mixing(z.size)\r\n",
    "\r\n",
    "fig, (ax1, ax2, ax3, ax4) = matplotlib.pyplot.subplots(ncols=4, figsize=(12, 5), sharey=True)\r\n",
    "line_ct, = ax1.plot(ct, z, '-', label='conservative temperature')\r\n",
    "ax1.set_xlabel('conservative temperature (degrees C)')\r\n",
    "ax1.set_ylabel('depth (m)')\r\n",
    "ax1.grid()\r\n",
    "\r\n",
    "line_SA, = ax2.plot(SA, z, '-', label='absolute salinity')\r\n",
    "ax2.set_xlabel('absolute salinity')\r\n",
    "ax2.grid()\r\n",
    "\r\n",
    "line_NN, = ax3.plot(NN, z_if, '-')\r\n",
    "ax3.set_xlabel('buoyancy frequency squared (s-2)')\r\n",
    "ax3.grid()\r\n",
    "\r\n",
    "line_nuh, = ax4.semilogx(mix.nuh, z_if, '-')\r\n",
    "ax4.set_xlabel('turbulent diffusivity (m2 s-1)')\r\n",
    "ax4.set_xlim(1e-10, 10)\r\n",
    "ax4.grid()\r\n",
    "\r\n",
    "title = fig.suptitle('day 0')\r\n",
    "\r\n",
    "dt = 3600.\r\n",
    "SS = numpy.zeros_like(NN)\r\n",
    "\r\n",
    "iday = 0\r\n",
    "def step():\r\n",
    "    global iday\r\n",
    "    pygsw.nsquared(h[:, None, None], SA[:, None, None], ct[:, None, None], p[:, None, None], lat[0, None, None], NN[1:-1, None, None])\r\n",
    "    mix.turbulence(z.size, dt, h_, D, 0., 0., 0., 0., NN, SS)\r\n",
    "    mix.diffuse(z.size, dt, h_, SA_)\r\n",
    "    mix.diffuse(z.size, dt, h_, ct_)\r\n",
    "    iday += dt / (24 * 3600.)\r\n",
    "\r\n",
    "def plot():\r\n",
    "    line_ct.set_xdata(ct)\r\n",
    "    line_SA.set_xdata(SA)\r\n",
    "    line_NN.set_xdata(NN)\r\n",
    "    line_nuh.set_xdata(mix.nuh)\r\n",
    "    title.set_text('day %.2f' % iday)\r\n",
    "    fig.canvas.draw()"
   ],
   "outputs": [],
   "metadata": {}
  },
  {
   "cell_type": "code",
   "execution_count": null,
   "source": [
    "# Try a single model iteration (1 hour) and update the figure\r\n",
    "step()\r\n",
    "plot()"
   ],
   "outputs": [],
   "metadata": {}
  },
  {
   "cell_type": "code",
   "execution_count": null,
   "source": [
    "\r\n",
    "# Simulate for 5 days\r\n",
    "for _ in range(5):\r\n",
    "    for _ in range(24):\r\n",
    "        step()\r\n",
    "        plot()\r\n"
   ],
   "outputs": [],
   "metadata": {}
  },
  {
   "cell_type": "code",
   "execution_count": null,
   "source": [],
   "outputs": [],
   "metadata": {}
  }
 ],
 "metadata": {
  "orig_nbformat": 4,
  "language_info": {
   "name": "python",
   "version": "3.8.8",
   "mimetype": "text/x-python",
   "codemirror_mode": {
    "name": "ipython",
    "version": 3
   },
   "pygments_lexer": "ipython3",
   "nbconvert_exporter": "python",
   "file_extension": ".py"
  },
  "kernelspec": {
   "name": "python3",
   "display_name": "Python 3.8.8 64-bit ('base': conda)"
  },
  "interpreter": {
   "hash": "97ae724bfa85b9b34df7982b8bb8c7216f435b92902d749e4263f71162bea840"
  }
 },
 "nbformat": 4,
 "nbformat_minor": 2
}