{
 "cells": [
  {
   "cell_type": "code",
   "execution_count": null,
   "metadata": {},
   "outputs": [],
   "source": [
    "import numpy\n",
    "import pygetm\n",
    "\n",
    "# Note: \"%matplotlib widget\" below enables interactive plots but requires https://github.com/matplotlib/ipympl\n",
    "# Alternatively you could use \"%matplotlib notebook\" (deprecated).\n",
    "%matplotlib widget\n",
    "import matplotlib.pyplot"
   ]
  },
  {
   "cell_type": "code",
   "execution_count": null,
   "metadata": {},
   "outputs": [],
   "source": [
    "# Set up rectangular domain\n",
    "domain = pygetm.domain.Domain.create_cartesian(numpy.linspace(0., 50000, 100), numpy.linspace(0., 30000, 30), 1, periodic_x=True, lat=0., H=50)\n",
    "sim = pygetm.Simulation(domain, runtype=1, advection_scheme=1)\n",
    "\n",
    "# Idealized surface forcing\n",
    "tausx = domain.U.array(fill=0.01)\n",
    "tausy = domain.V.array(fill=0.)\n",
    "sp = domain.T.array(fill=0.)\n",
    "\n",
    "# Time\n",
    "timestep = 10.\n",
    "ntime = int(3600. // timestep)\n",
    "\n",
    "# Set up velocity plot\n",
    "nsample = 4\n",
    "fig, ax = matplotlib.pyplot.subplots()\n",
    "pc = ax.pcolormesh(domain.T.xi, domain.T.yi, domain.T.z, vmin=-0.001, vmax=0.001)\n",
    "cb = fig.colorbar(pc)\n",
    "cb.set_label('elevation (m)')\n",
    "u, v = sim.U.interp(domain.T) / domain.T.D, sim.V.interp(domain.T) / domain.T.D\n",
    "Q = ax.quiver(domain.T.x[::nsample, ::nsample], domain.T.y[::nsample, ::nsample], u[::nsample, ::nsample], v[::nsample, ::nsample], scale=.005)\n",
    "title = ax.set_title('time: 0 s')"
   ]
  },
  {
   "cell_type": "code",
   "execution_count": null,
   "metadata": {
    "tags": []
   },
   "outputs": [],
   "source": [
    "sim.U.update_halos()\n",
    "sim.V.update_halos()\n",
    "plotting_interval = 1\n",
    "times = timestep * numpy.arange(ntime)\n",
    "Us = numpy.empty_like(times)\n",
    "for istep, time in enumerate(times):\n",
    "    Us[istep] = numpy.mean(sim.U)\n",
    "    \n",
    "    sim.update_surface_pressure_gradient(domain.T.z, sp)\n",
    "    sim.uv_momentum_2d(timestep, tausx, tausy, sim.dpdx, sim.dpdy)\n",
    "    sim.U.update_halos()\n",
    "    sim.V.update_halos()\n",
    "    sim.update_sealevel(timestep, sim.U, sim.V)\n",
    "    sim.update_depth()\n",
    "\n",
    "    # Update velocity plot\n",
    "    if istep % plotting_interval == 0:\n",
    "        u, v = sim.U.interp(domain.T) / domain.T.D, sim.V.interp(domain.T) / domain.T.D\n",
    "        Q.set_UVC(u[::nsample, ::nsample], v[::nsample, ::nsample])\n",
    "        title.set_text('time: %s s' % time)\n",
    "        pc.set_array(domain.T.z[...].ravel())\n",
    "        fig.canvas.draw()    "
   ]
  },
  {
   "cell_type": "code",
   "execution_count": null,
   "metadata": {},
   "outputs": [],
   "source": [
    "fig, ax = matplotlib.pyplot.subplots()\n",
    "ax.plot(times, Us)\n",
    "ax.set_title('mean U')\n",
    "ax.grid()"
   ]
  },
  {
   "source": [
    "# Let's try this with an island in the center of the domain"
   ],
   "cell_type": "markdown",
   "metadata": {}
  },
  {
   "cell_type": "code",
   "execution_count": null,
   "metadata": {},
   "outputs": [],
   "source": [
    "# Set up rectangular domain with and circular island in the center\n",
    "domain = pygetm.domain.Domain.create_cartesian(numpy.linspace(0., 50000, 100), numpy.linspace(0., 30000, 30), 1, periodic_x=True, lat=0., H=50)\n",
    "distance_from_center = numpy.sqrt((domain.x - 25000)**2 + (domain.y - 15000)**2)\n",
    "domain.mask[distance_from_center < 5000] = 0\n",
    "sim = pygetm.Simulation(domain, runtype=1, advection_scheme=1, apply_bottom_friction=False)\n",
    "print('Maximum time step: %.3f s' % domain.maxdt)\n",
    "\n",
    "# Idealized surface forcing\n",
    "tausx = domain.U.array(fill=0.01)\n",
    "tausy = domain.V.array(fill=0.)\n",
    "sp = domain.T.array(fill=0.)\n",
    "\n",
    "# Time\n",
    "timestep = 5.\n",
    "ntime = int(3600. // timestep)\n",
    "\n",
    "# Set up velocity plot\n",
    "nsample = 1\n",
    "fig, ax = matplotlib.pyplot.subplots()\n",
    "masked_z = domain.T.z.ma\n",
    "pc = ax.pcolormesh(domain.T.xi, domain.T.yi, masked_z, vmin=-0.001, vmax=0.001)\n",
    "cb = fig.colorbar(pc)\n",
    "cb.set_label('elevation (m)')\n",
    "u, v = sim.U.interp(domain.T) / domain.T.D, sim.V.interp(domain.T) / domain.T.D\n",
    "Q = ax.quiver(domain.T.x[::nsample, ::nsample], domain.T.y[::nsample, ::nsample], u[::nsample, ::nsample], v[::nsample, ::nsample], scale=.01)\n",
    "title = ax.set_title('time: 0 s')\n",
    "V = sim.V[:-1, :]"
   ]
  },
  {
   "cell_type": "code",
   "execution_count": null,
   "metadata": {
    "tags": []
   },
   "outputs": [],
   "source": [
    "sim.U.update_halos()\n",
    "sim.V.update_halos()\n",
    "plotting_interval = 5\n",
    "times = timestep * numpy.arange(ntime)\n",
    "Us = numpy.empty_like(times)\n",
    "for istep, time in enumerate(times):\n",
    "    Us[istep] = numpy.mean(sim.U)\n",
    "    \n",
    "    sim.update_surface_pressure_gradient(domain.T.z, sp)\n",
    "    sim.uv_momentum_2d(timestep, tausx, tausy, sim.dpdx, sim.dpdy)\n",
    "    sim.U.update_halos()\n",
    "    sim.V.update_halos()\n",
    "    sim.update_sealevel(timestep, sim.U, sim.V)\n",
    "    sim.update_depth()\n",
    "\n",
    "    assert (sim.U[domain.U.mask.values==0]==0).all()\n",
    "    assert (sim.V[domain.V.mask.values==0]==0).all()\n",
    "    assert (sim.fU[...]==0).all()\n",
    "    assert (sim.fV[...]==0).all()\n",
    "    V_asym = (V + V[::-1, :]).max() - (V + V[::-1, :]).min()\n",
    "    V_range = V.max() - V.min()\n",
    "    print('Asymmetry in V: %s' % ( V_asym / V_range if V_asym > 0 else 0.,))\n",
    "\n",
    "    # Update velocity plot\n",
    "    if istep % plotting_interval == 0:\n",
    "        u, v = sim.U.interp(domain.T) / domain.T.D, sim.V.interp(domain.T) / domain.T.D\n",
    "        Q.set_UVC(u[::nsample, ::nsample], v[::nsample, ::nsample])\n",
    "        title.set_text('time: %s s' % time)\n",
    "        pc.set_array(masked_z.ravel())\n",
    "        fig.canvas.draw()    "
   ]
  },
  {
   "cell_type": "code",
   "execution_count": null,
   "metadata": {},
   "outputs": [],
   "source": []
  }
 ],
 "metadata": {
  "kernelspec": {
   "name": "python388jvsc74a57bd097ae724bfa85b9b34df7982b8bb8c7216f435b92902d749e4263f71162bea840",
   "display_name": "Python 3.8.8 64-bit ('base': conda)"
  },
  "language_info": {
   "codemirror_mode": {
    "name": "ipython",
    "version": 3
   },
   "file_extension": ".py",
   "mimetype": "text/x-python",
   "name": "python",
   "nbconvert_exporter": "python",
   "pygments_lexer": "ipython3",
   "version": "3.8.8"
  }
 },
 "nbformat": 4,
 "nbformat_minor": 4
}