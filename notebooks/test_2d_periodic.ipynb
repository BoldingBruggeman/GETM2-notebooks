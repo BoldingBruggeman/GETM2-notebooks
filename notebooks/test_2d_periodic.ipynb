{
 "cells": [
  {
   "cell_type": "code",
   "execution_count": 1,
   "metadata": {},
   "outputs": [],
   "source": [
    "import numpy\n",
    "import pygetm\n",
    "import pygetm.domain\n",
    "\n",
    "# Note: \"%matplotlib widget\" below enables interactive plots but requires https://github.com/matplotlib/ipympl\n",
    "# Alternatively you could use \"%matplotlib notebook\" (deprecated).\n",
    "%matplotlib widget\n",
    "import matplotlib.pyplot"
   ]
  },
  {
   "cell_type": "code",
   "execution_count": 2,
   "metadata": {},
   "outputs": [
    {
     "data": {
      "application/vnd.jupyter.widget-view+json": {
       "model_id": "d8c5a578f8d0482d93199ec1feee3b30",
       "version_major": 2,
       "version_minor": 0
      },
      "text/plain": [
       "Canvas(toolbar=Toolbar(toolitems=[('Home', 'Reset original view', 'home', 'home'), ('Back', 'Back to previous …"
      ]
     },
     "metadata": {},
     "output_type": "display_data"
    }
   ],
   "source": [
    "# Set up rectangular domain\n",
    "domain = pygetm.domain.Domain.create_cartesian(numpy.linspace(0., 50000, 100), numpy.linspace(0., 30000, 30), 1, periodic_x=True, lat=0., H=50)\n",
    "sim = pygetm.Simulation(domain, runtype=1, advection_scheme=1)\n",
    "\n",
    "# Idealized surface forcing\n",
    "tausx, tausx_ = domain.T.array(fill=0.)\n",
    "tausx[...] = 0.01\n",
    "tausy_ = numpy.zeros_like(tausx_)\n",
    "sp, sp_ = domain.T.array(fill=0.)\n",
    "\n",
    "# Time\n",
    "timestep = 10.\n",
    "ntime = int(3600. // timestep)\n",
    "\n",
    "# Set up velocity plot\n",
    "nsample = 4\n",
    "fig, ax = matplotlib.pyplot.subplots()\n",
    "pc = ax.pcolormesh(domain.T.xi, domain.T.yi, domain.T.z, vmin=-0.001, vmax=0.001)\n",
    "cb = fig.colorbar(pc)\n",
    "cb.set_label('elevation (m)')\n",
    "Q = ax.quiver(domain.T.x[::nsample, ::nsample], domain.T.y[::nsample, ::nsample], sim.momentum.U[::nsample, ::nsample], sim.momentum.V[::nsample, ::nsample], scale=.3)\n",
    "title = ax.set_title('time: 0 s')"
   ]
  },
  {
   "cell_type": "code",
   "execution_count": 3,
   "metadata": {
    "tags": []
   },
   "outputs": [],
   "source": [
    "dist_U = domain.distribute(sim.momentum.U_)\n",
    "dist_V = domain.distribute(sim.momentum.V_)\n",
    "dist_U.update_halos()\n",
    "dist_V.update_halos()\n",
    "plotting_interval = 5\n",
    "times = timestep * numpy.arange(ntime)\n",
    "Us = numpy.empty_like(times)\n",
    "for istep, time in enumerate(times):\n",
    "    Us[istep] = sim.momentum.U.mean()\n",
    "    \n",
    "    sim.pressure.surface(domain.T.z_, sp_)\n",
    "    sim.momentum.uv_momentum_2d(timestep, tausx_, tausy_, sim.pressure.dpdx_, sim.pressure.dpdy_)\n",
    "    dist_U.update_halos()\n",
    "    dist_V.update_halos()\n",
    "    sim.sealevel.update(timestep, sim.momentum.U_, sim.momentum.V_)\n",
    "    sim.update_depth()\n",
    "\n",
    "    # Update velocity plot\n",
    "    if istep % plotting_interval == 0:\n",
    "        Q.set_UVC(sim.momentum.U[::nsample, ::nsample], sim.momentum.V[::nsample, ::nsample])\n",
    "        title.set_text('time: %s s' % time)\n",
    "        pc.set_array(domain.T.z.ravel())\n",
    "        fig.canvas.draw()    "
   ]
  },
  {
   "cell_type": "code",
   "execution_count": 4,
   "metadata": {},
   "outputs": [
    {
     "data": {
      "application/vnd.jupyter.widget-view+json": {
       "model_id": "11d840e7ef444b69af55df02b709b5e9",
       "version_major": 2,
       "version_minor": 0
      },
      "text/plain": [
       "Canvas(toolbar=Toolbar(toolitems=[('Home', 'Reset original view', 'home', 'home'), ('Back', 'Back to previous …"
      ]
     },
     "metadata": {},
     "output_type": "display_data"
    }
   ],
   "source": [
    "fig, ax = matplotlib.pyplot.subplots()\n",
    "ax.plot(times, Us)\n",
    "ax.set_title('mean U')\n",
    "ax.grid()"
   ]
  },
  {
   "cell_type": "markdown",
   "metadata": {},
   "source": [
    "# Let's try this with an island in the center of the domain"
   ]
  },
  {
   "cell_type": "code",
   "execution_count": 7,
   "metadata": {},
   "outputs": [
    {
     "data": {
      "application/vnd.jupyter.widget-view+json": {
       "model_id": "8aaef481589e44e1b65cd9a9c63a757c",
       "version_major": 2,
       "version_minor": 0
      },
      "text/plain": [
       "Canvas(toolbar=Toolbar(toolitems=[('Home', 'Reset original view', 'home', 'home'), ('Back', 'Back to previous …"
      ]
     },
     "metadata": {},
     "output_type": "display_data"
    }
   ],
   "source": [
    "# Set up rectangular domain with and circular island in the center\n",
    "# KB - there is an issue with this setup that we will investigate\n",
    "domain = pygetm.domain.Domain.create_cartesian(numpy.linspace(0., 50000, 100), numpy.linspace(0., 30000, 30), 1, periodic_x=True, lat=0., H=50)\n",
    "distance_from_center = numpy.sqrt((domain.x - 25000)**2 + (domain.y - 15000)**2)\n",
    "domain.mask[distance_from_center < 5000] = 0\n",
    "sim = pygetm.Simulation(domain, runtype=1, advection_scheme=1)\n",
    "\n",
    "# Idealized surface forcing\n",
    "tausx, tausx_ = domain.T.array(fill=0.)\n",
    "tausx[...] = 0.01\n",
    "tausy_ = numpy.zeros_like(tausx_)\n",
    "sp, sp_ = domain.T.array(fill=0.)\n",
    "\n",
    "# Time\n",
    "timestep = 5.\n",
    "ntime = int(1500. // timestep)\n",
    "\n",
    "# Set up velocity plot\n",
    "nsample = 1\n",
    "fig, ax = matplotlib.pyplot.subplots()\n",
    "masked_z = numpy.ma.array(domain.T.z, mask=domain.T.mask==0)\n",
    "pc = ax.pcolormesh(domain.T.xi, domain.T.yi, masked_z, vmin=-0.001, vmax=0.001)\n",
    "cb = fig.colorbar(pc)\n",
    "cb.set_label('elevation (m)')\n",
    "Q = ax.quiver(domain.T.x[::nsample, ::nsample], domain.T.y[::nsample, ::nsample], sim.momentum.U[::nsample, ::nsample], sim.momentum.V[::nsample, ::nsample], scale=.3)\n",
    "title = ax.set_title('time: 0 s')"
   ]
  },
  {
   "cell_type": "code",
   "execution_count": 8,
   "metadata": {},
   "outputs": [],
   "source": [
    "dist_U = domain.distribute(sim.momentum.U_)\n",
    "dist_V = domain.distribute(sim.momentum.V_)\n",
    "dist_U.update_halos()\n",
    "dist_V.update_halos()\n",
    "plotting_interval = 5\n",
    "times = timestep * numpy.arange(ntime)\n",
    "Us = numpy.empty_like(times)\n",
    "for istep, time in enumerate(times):\n",
    "    Us[istep] = sim.momentum.U.mean()\n",
    "    \n",
    "    sim.pressure.surface(domain.T.z_, sp_)\n",
    "    sim.momentum.uv_momentum_2d(timestep, tausx_, tausy_, sim.pressure.dpdx_, sim.pressure.dpdy_)\n",
    "    dist_U.update_halos()\n",
    "    dist_V.update_halos()\n",
    "    sim.sealevel.update(timestep, sim.momentum.U_, sim.momentum.V_)\n",
    "    sim.update_depth()\n",
    "\n",
    "    # Update velocity plot\n",
    "    if istep % plotting_interval == 0:\n",
    "        Q.set_UVC(sim.momentum.U[::nsample, ::nsample], sim.momentum.V[::nsample, ::nsample])\n",
    "        title.set_text('time: %s s' % time)\n",
    "        pc.set_array(masked_z.ravel())\n",
    "        fig.canvas.draw()    "
   ]
  },
  {
   "cell_type": "code",
   "execution_count": null,
   "metadata": {},
   "outputs": [],
   "source": []
  }
 ],
 "metadata": {
  "kernelspec": {
   "display_name": "Python 3",
   "language": "python",
   "name": "python3"
  },
  "language_info": {
   "codemirror_mode": {
    "name": "ipython",
    "version": 3
   },
   "file_extension": ".py",
   "mimetype": "text/x-python",
   "name": "python",
   "nbconvert_exporter": "python",
   "pygments_lexer": "ipython3",
   "version": "3.8.5"
  }
 },
 "nbformat": 4,
 "nbformat_minor": 4
}
